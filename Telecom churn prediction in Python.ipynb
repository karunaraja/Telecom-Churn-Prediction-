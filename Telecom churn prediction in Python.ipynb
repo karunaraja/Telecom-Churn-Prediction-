{
  "nbformat": 4,
  "nbformat_minor": 0,
  "metadata": {
    "colab": {
      "provenance": []
    },
    "kernelspec": {
      "name": "python3",
      "display_name": "Python 3"
    },
    "language_info": {
      "name": "python"
    }
  },
  "cells": [
    {
      "cell_type": "code",
      "source": [
        "import pandas as pd\n",
        "df = pd.read_csv(\"/telecom churn data in sql.csv\")\n",
        "\n",
        "# Display unique values in the 'Churn' column\n",
        "display(df['Churn'].unique())\n",
        "\n",
        "# Create churn flag\n",
        "df['CHURN_FLAG'] = df['Churn'].map({' True':1, ' False':0})\n",
        "\n",
        "# Display the value counts of the CHURN_FLAG column\n",
        "display(df['CHURN_FLAG'].value_counts(dropna=False))\n",
        "\n",
        "df.to_csv(\"/telecom churn data in sql.csv\", index=False)"
      ],
      "metadata": {
        "colab": {
          "base_uri": "https://localhost:8080/",
          "height": 195
        },
        "id": "Hk_0MaXHRVZY",
        "outputId": "3a95d072-fd8c-42fd-ef53-2b16abf0c2bd"
      },
      "execution_count": 18,
      "outputs": [
        {
          "output_type": "display_data",
          "data": {
            "text/plain": [
              "array([' False', ' True'], dtype=object)"
            ]
          },
          "metadata": {}
        },
        {
          "output_type": "display_data",
          "data": {
            "text/plain": [
              "CHURN_FLAG\n",
              "0    871\n",
              "1    129\n",
              "Name: count, dtype: int64"
            ],
            "text/html": [
              "<div>\n",
              "<style scoped>\n",
              "    .dataframe tbody tr th:only-of-type {\n",
              "        vertical-align: middle;\n",
              "    }\n",
              "\n",
              "    .dataframe tbody tr th {\n",
              "        vertical-align: top;\n",
              "    }\n",
              "\n",
              "    .dataframe thead th {\n",
              "        text-align: right;\n",
              "    }\n",
              "</style>\n",
              "<table border=\"1\" class=\"dataframe\">\n",
              "  <thead>\n",
              "    <tr style=\"text-align: right;\">\n",
              "      <th></th>\n",
              "      <th>count</th>\n",
              "    </tr>\n",
              "    <tr>\n",
              "      <th>CHURN_FLAG</th>\n",
              "      <th></th>\n",
              "    </tr>\n",
              "  </thead>\n",
              "  <tbody>\n",
              "    <tr>\n",
              "      <th>0</th>\n",
              "      <td>871</td>\n",
              "    </tr>\n",
              "    <tr>\n",
              "      <th>1</th>\n",
              "      <td>129</td>\n",
              "    </tr>\n",
              "  </tbody>\n",
              "</table>\n",
              "</div><br><label><b>dtype:</b> int64</label>"
            ]
          },
          "metadata": {}
        }
      ]
    },
    {
      "cell_type": "code",
      "source": [
        "from sklearn.model_selection import train_test_split\n",
        "from sklearn.ensemble import RandomForestClassifier\n",
        "from sklearn.metrics import classification_report\n",
        "\n",
        "X = df.drop(['Churn','CHURN_FLAG', 'Phone'], axis=1)\n",
        "y = df['CHURN_FLAG']\n",
        "\n",
        "X_train, X_test, y_train, y_test = train_test_split(X, y, test_size=0.3, random_state=42)\n",
        "\n",
        "model = RandomForestClassifier()\n",
        "model.fit(X_train, y_train)\n",
        "\n",
        "print(classification_report(y_test, model.predict(X_test)))\n",
        "\n",
        "# Risk scoring\n",
        "df['Churn_Risk_Score'] = model.predict_proba(X)[:,1]"
      ],
      "metadata": {
        "colab": {
          "base_uri": "https://localhost:8080/"
        },
        "id": "T3wLsF-jTAEn",
        "outputId": "516f2ab6-1fff-47af-9115-92f73455bd07"
      },
      "execution_count": 19,
      "outputs": [
        {
          "output_type": "stream",
          "name": "stdout",
          "text": [
            "              precision    recall  f1-score   support\n",
            "\n",
            "           0       0.90      0.99      0.94       251\n",
            "           1       0.91      0.43      0.58        49\n",
            "\n",
            "    accuracy                           0.90       300\n",
            "   macro avg       0.91      0.71      0.76       300\n",
            "weighted avg       0.90      0.90      0.88       300\n",
            "\n"
          ]
        }
      ]
    }
  ]
}